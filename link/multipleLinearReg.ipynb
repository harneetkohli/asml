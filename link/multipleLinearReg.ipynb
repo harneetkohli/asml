{
  "nbformat": 4,
  "nbformat_minor": 0,
  "metadata": {
    "colab": {
      "name": "multipleLinearReg.ipynb",
      "provenance": []
    },
    "kernelspec": {
      "name": "python3",
      "display_name": "Python 3"
    },
    "language_info": {
      "name": "python"
    }
  },
  "cells": [
    {
      "cell_type": "code",
      "metadata": {
        "colab": {
          "base_uri": "https://localhost:8080/"
        },
        "id": "1kdxXjtqh6be",
        "outputId": "c5115fbc-bf9a-4c2b-e3b8-379f072b4497"
      },
      "source": [
        "from sklearn.linear_model import LinearRegression\n",
        "import numpy as np\n",
        "import matplotlib.pyplot as plt\n",
        "\n",
        "x = [[2.75,5.3], [2.5,5.3], [2.5,5.3], [2.5,5.3], [2.5,5.4], [2.5,5.6], [2.5,5.5] ,[2.25,5.5], [2.25,5.5] ,[2.25,5.6] ,[2,5.7], [2,5.9], [2,6], [1.75,5.9], [1.75,5.8], [1.75,6.1], [1.75,6.2], [1.75,6.1], [1.75,6.1], [1.75,6.1], [1.75,5.9], [1.75,6.2] ,[1.75,6.2], [1.75,6.1]]\n",
        "y = [1464, 1394, 1357, 1293, 1256, 1254, 1234, 1195, 1159, 1167, 1130, 1075, 1047, 965, 943, 958, 971, 949, 884, 866, 876, 822, 704, 719]\n",
        "x, y = np.array(x), np.array(y)\n",
        "x\n",
        "y"
      ],
      "execution_count": 6,
      "outputs": [
        {
          "output_type": "execute_result",
          "data": {
            "text/plain": [
              "array([1464, 1394, 1357, 1293, 1256, 1254, 1234, 1195, 1159, 1167, 1130,\n",
              "       1075, 1047,  965,  943,  958,  971,  949,  884,  866,  876,  822,\n",
              "        704,  719])"
            ]
          },
          "metadata": {},
          "execution_count": 6
        }
      ]
    },
    {
      "cell_type": "code",
      "metadata": {
        "id": "qTNpe2HniaLw"
      },
      "source": [
        "model = LinearRegression().fit(x,y)"
      ],
      "execution_count": 3,
      "outputs": []
    },
    {
      "cell_type": "code",
      "metadata": {
        "colab": {
          "base_uri": "https://localhost:8080/"
        },
        "id": "hAeqiyMTi81c",
        "outputId": "70e52add-07be-4f15-9166-76086c93c47a"
      },
      "source": [
        "slp_coff = model.coef_\n",
        "b0 = model.intercept_\n",
        "b1 = slp_coff[0]\n",
        "b2 = slp_coff[1]\n",
        "print(f\"b0 = {b0} , b1 = {b1} and b2 = {b2}\")\n",
        "Y = b0 + b1*1.5 + b2*6.8\n",
        "print(f\"Y = {Y}\")\n"
      ],
      "execution_count": 10,
      "outputs": [
        {
          "output_type": "stream",
          "name": "stdout",
          "text": [
            "b0 = 1798.4039776258555 , b1 = 345.5400870105655 and b2 = -250.14657136938072\n",
            "Y = 615.717422829915\n"
          ]
        }
      ]
    }
  ]
}