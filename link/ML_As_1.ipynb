{
  "nbformat": 4,
  "nbformat_minor": 0,
  "metadata": {
    "colab": {
      "name": "ML_As_1.ipynb",
      "provenance": [],
      "collapsed_sections": []
    },
    "kernelspec": {
      "display_name": "Python 3",
      "name": "python3"
    },
    "language_info": {
      "name": "python"
    }
  },
  "cells": [
    {
      "cell_type": "code",
      "metadata": {
        "colab": {
          "base_uri": "https://localhost:8080/"
        },
        "id": "TPEyEtCRfSX6",
        "outputId": "089ab414-b71f-4295-e9f8-2febd6dd84ac"
      },
      "source": [
        "# Q1. Split this string s = \"Hi there Class!\" into a list. \n",
        "\n",
        "s = \"Hi there class!\"\n",
        "print(s.split())"
      ],
      "execution_count": null,
      "outputs": [
        {
          "output_type": "stream",
          "text": [
            "['Hi', 'there', 'class!']\n"
          ],
          "name": "stdout"
        }
      ]
    },
    {
      "cell_type": "code",
      "metadata": {
        "colab": {
          "base_uri": "https://localhost:8080/"
        },
        "id": "S1GHWEL-fiZX",
        "outputId": "7e3fa72d-e481-4f60-e915-7b4315619b71"
      },
      "source": [
        "# Q2. Given the variables planet = \"Earth\" diameter = 12742 Use .format() to print the following string:  The diameter of Earth is 12742 kilometers.\n",
        "\n",
        "planet = \"Earth\"\n",
        "diameter = \"12742\"\n",
        "print(\"The diameter of {} is {} kilometers\".format(planet,diameter))"
      ],
      "execution_count": null,
      "outputs": [
        {
          "output_type": "stream",
          "text": [
            "The diameter of Earth is 12742 kilometers\n"
          ],
          "name": "stdout"
        }
      ]
    },
    {
      "cell_type": "code",
      "metadata": {
        "colab": {
          "base_uri": "https://localhost:8080/"
        },
        "id": "81q17QGMgpNf",
        "outputId": "22594a93-45c8-44de-e752-92c190db0ec3"
      },
      "source": [
        "# Q3. Given this nested list, use indexing to grab the word \"hello\"  lst = [1,2,[3,4],[5,[100,200,['hello']],23,11],1,7] \n",
        "\n",
        "lst = [1,2,[3,4],[5,[100,200,[\"hello\"]],23,11],1,7]\n",
        "print(lst[3][1][2])"
      ],
      "execution_count": null,
      "outputs": [
        {
          "output_type": "stream",
          "text": [
            "['hello']\n"
          ],
          "name": "stdout"
        }
      ]
    },
    {
      "cell_type": "code",
      "metadata": {
        "colab": {
          "base_uri": "https://localhost:8080/"
        },
        "id": "r2Q0lZFVhYWu",
        "outputId": "9f4e81fd-0e0e-4121-abba-d7fd27511d31"
      },
      "source": [
        "# Q4. Given this nested dictionary grab the word \"hello\".  d = {'k1':[1,2,3,{'tricky':['oh','man','inception',{'target':[1,2,3,'hello']}]}]} \n",
        "\n",
        "d = {'k1':[1,2,3,{'tricky':['oh','man','inception',{'target':[1,2,3,'hello']}]}]}\n",
        "print(d['k1'][3]['tricky'][3]['target'][3])"
      ],
      "execution_count": null,
      "outputs": [
        {
          "output_type": "stream",
          "text": [
            "hello\n"
          ],
          "name": "stdout"
        }
      ]
    },
    {
      "cell_type": "code",
      "metadata": {
        "colab": {
          "base_uri": "https://localhost:8080/"
        },
        "id": "X62ROIUID7Hj",
        "outputId": "62219c54-2a91-4c09-9656-2b3e4294cc51"
      },
      "source": [
        "# Q5. Create a function that grabs the email website domain from a string in the form: user@domain.com \n",
        "\n",
        "s = \"user@domain.com\"\n",
        "print(s.split('@')[-1])"
      ],
      "execution_count": 1,
      "outputs": [
        {
          "output_type": "stream",
          "name": "stdout",
          "text": [
            "domain.com\n"
          ]
        }
      ]
    },
    {
      "cell_type": "code",
      "metadata": {
        "id": "x7AhMRjQiBYP",
        "colab": {
          "base_uri": "https://localhost:8080/"
        },
        "outputId": "ccdfc9c9-bc59-4f8b-b93d-27711b3ab844"
      },
      "source": [
        "# Q6. Create a basic function that returns True if the word 'dog' is contained in the input string. \n",
        "\n",
        "def func(d):\n",
        "  return 'dog' in d.lower().split()\n",
        "\n",
        "s = \"This is the dog\"\n",
        "func(s)"
      ],
      "execution_count": null,
      "outputs": [
        {
          "output_type": "execute_result",
          "data": {
            "text/plain": [
              "True"
            ]
          },
          "metadata": {
            "tags": []
          },
          "execution_count": 28
        }
      ]
    },
    {
      "cell_type": "code",
      "metadata": {
        "colab": {
          "base_uri": "https://localhost:8080/"
        },
        "id": "3IKM00kwGy2n",
        "outputId": "14107569-8d1e-476f-9754-90f8cd1a5a87"
      },
      "source": [
        "# Q7. Create a function that counts the number of times the word \"dog\" occurs in a string.\n",
        "\n",
        "def func(d):\n",
        "  return d.lower().count('dog')\n",
        "\n",
        "s = \"This is the dog and you might be know this dog\"\n",
        "func(s)"
      ],
      "execution_count": null,
      "outputs": [
        {
          "output_type": "execute_result",
          "data": {
            "text/plain": [
              "2"
            ]
          },
          "metadata": {
            "tags": []
          },
          "execution_count": 30
        }
      ]
    },
    {
      "cell_type": "code",
      "metadata": {
        "colab": {
          "base_uri": "https://localhost:8080/"
        },
        "id": "BvH2YF4hH3pp",
        "outputId": "d667190b-e0ed-4543-8921-aec39e1e067c"
      },
      "source": [
        "# Q8. Use lambda expressions and the filter() function to filter out words from a list that don't start with the letter 's'.  For example: seq = ['soup','dog','salad','cat','great'] \n",
        "\n",
        "seq = ['soup','dog','salad','cat','great']\n",
        "list(filter(lambda word:word[0] != 's',seq))"
      ],
      "execution_count": 3,
      "outputs": [
        {
          "output_type": "execute_result",
          "data": {
            "text/plain": [
              "['dog', 'cat', 'great']"
            ]
          },
          "metadata": {},
          "execution_count": 3
        }
      ]
    },
    {
      "cell_type": "code",
      "metadata": {
        "colab": {
          "base_uri": "https://localhost:8080/",
          "height": 36
        },
        "id": "WFFje6RcKEr5",
        "outputId": "1e4615d8-5d7a-4796-c4b7-fd1dc4647d64"
      },
      "source": [
        "# Q9. You are driving a little too fast, and a police officer stops you. Write a function to return one of 3 pos\n",
        "# sible results: \"No Challan\", \"Small Challan\", or \"Heavy Challan\". If your speed is 60 or less, the result is \n",
        "# \"No Challan\". If speed is between 61 and 80 inclusive, the result is \"Small Challan\". If speed is 81 or mor\n",
        "# e, the result is \"Heavy Challan\". Unless it is your birthday (encoded as a Boolean value in the parameters \n",
        "# of the function) -- on your birthday, your speed can be 5 higher in all cases. \n",
        "# caught_speeding(81,True) \n",
        "# caught_speeding(81,False)  \n",
        "\n",
        "def caught_speeding(speed,birthday):\n",
        "  if birthday:\n",
        "    speeding = speed - 5\n",
        "  else:\n",
        "    speeding = speed\n",
        "  if speeding > 80:\n",
        "    return 'Heavy challan'\n",
        "  elif speeding > 60:\n",
        "    return 'Small Challan'\n",
        "  else:\n",
        "    return 'No Challan'\n",
        "\n",
        "# caught_speeding(81,True)\n",
        "# caught_speeding(81,False)\n"
      ],
      "execution_count": null,
      "outputs": [
        {
          "output_type": "execute_result",
          "data": {
            "application/vnd.google.colaboratory.intrinsic+json": {
              "type": "string"
            },
            "text/plain": [
              "'Heavy challan'"
            ]
          },
          "metadata": {
            "tags": []
          },
          "execution_count": 41
        }
      ]
    },
    {
      "cell_type": "code",
      "metadata": {
        "colab": {
          "base_uri": "https://localhost:8080/"
        },
        "id": "dZ1Qr4Q_3_OK",
        "outputId": "1ef8e6c3-bd3b-459c-c07e-e92a0a49c6a9"
      },
      "source": [
        "# Q10. Concatenate two lists index-wise \n",
        "# list1 = [\"M\", \"na\", \"i\", \"She\"]  \n",
        "# list2 = [\"y\", \"me\", \"s\", \"lly\"] \n",
        "# Expected Outcome: ['My', 'name', 'is', 'Shelly']\n",
        "\n",
        "l1 = [\"M\",\"na\",\"i\",\"She\"]\n",
        "l2 = [\"y\",\"me\",\"s\",\"liy\"]\n",
        "res = [i + j for i,j in zip(l1,l2)]\n",
        "print(res)"
      ],
      "execution_count": null,
      "outputs": [
        {
          "output_type": "stream",
          "text": [
            "['My', 'name', 'is', 'Sheliy']\n"
          ],
          "name": "stdout"
        }
      ]
    },
    {
      "cell_type": "code",
      "metadata": {
        "id": "ZofP30iYM7PP",
        "colab": {
          "base_uri": "https://localhost:8080/"
        },
        "outputId": "8e884467-ac71-4a98-d331-1845c769ea8c"
      },
      "source": [
        "# Q11. Concatenate two lists in the following order \n",
        "# list1 = [\"Hello \", \"take \"] \n",
        "# list2 = [\"Dear\", \"Sir\"] | Expected Output: ['Hello Dear', 'Hello Sir', 'take Dear', 'take Sir'] \n",
        "\n",
        "l1 = [\"Hello\",\"Take\"]\n",
        "l2 = [\"Dear\", \"Sir\"]\n",
        "l3 = [x + y for x in l1 for y in l2]\n",
        "\n",
        "print(l3)"
      ],
      "execution_count": null,
      "outputs": [
        {
          "output_type": "stream",
          "text": [
            "['HelloDear', 'HelloSir', 'TakeDear', 'TakeSir']\n"
          ],
          "name": "stdout"
        }
      ]
    },
    {
      "cell_type": "code",
      "metadata": {
        "colab": {
          "base_uri": "https://localhost:8080/"
        },
        "id": "hPIUTdnX6jKR",
        "outputId": "16d9cfe7-61d1-4a56-b780-c56d4d2fad5b"
      },
      "source": [
        "# Q12. Add item 7000 after 6000 in the following Python List list1 = [10, 20, [300, 400, [5000, 6000], 500], 30, 40] \n",
        "\n",
        "l1= [10,20,[300,400,[5000,6000],500],30,40]\n",
        "l1[2][2].append(7000)\n",
        "print(l1)"
      ],
      "execution_count": null,
      "outputs": [
        {
          "output_type": "stream",
          "text": [
            "[10, 20, [300, 400, [5000, 6000, 7000], 500], 30, 40]\n"
          ],
          "name": "stdout"
        }
      ]
    },
    {
      "cell_type": "code",
      "metadata": {
        "colab": {
          "base_uri": "https://localhost:8080/"
        },
        "id": "U0_-utKH7gix",
        "outputId": "81c58369-a8c1-4ad6-8b29-5ab318aa0084"
      },
      "source": [
        "# Q13. Given a Python list, remove all occurrence of 20 from the list list1 = [5, 20, 15, 20, 25, 50, 20] \n",
        "\n",
        "lst = [15,20,15,20,15,50,20]\n",
        "def removeElement(ele):\n",
        "  for i in lst:\n",
        "    if i == ele:\n",
        "      lst.remove(i)\n",
        "\n",
        "removeElement(15)\n",
        "print(lst)"
      ],
      "execution_count": null,
      "outputs": [
        {
          "output_type": "stream",
          "text": [
            "[20, 20, 50, 20]\n"
          ],
          "name": "stdout"
        }
      ]
    },
    {
      "cell_type": "code",
      "metadata": {
        "colab": {
          "base_uri": "https://localhost:8080/"
        },
        "id": "EwWyNa6Z7_OP",
        "outputId": "2f786613-e181-444b-98c5-cfcb4a2e0a23"
      },
      "source": [
        "# Q14. Check if a value 200 exists in a dictionary d1 = {'a': 100, 'b': 200, 'c': 300}\n",
        "\n",
        "dict = {'a':100,'b':200,'c':300}\n",
        "val = 200\n",
        "if val in dict.values():\n",
        "  print(f\"This value-> {val} exist in a dictionary\")\n",
        "else:\n",
        "  print(f\"This value-> {val} does not exist in a dictionary\")"
      ],
      "execution_count": null,
      "outputs": [
        {
          "output_type": "stream",
          "text": [
            "This value-> 900 does not exist in a dictionary\n"
          ],
          "name": "stdout"
        }
      ]
    },
    {
      "cell_type": "code",
      "metadata": {
        "colab": {
          "base_uri": "https://localhost:8080/"
        },
        "id": "cKciV1V-97oy",
        "outputId": "0f09eebb-d3e3-4e8b-f1e7-531991948586"
      },
      "source": [
        "# Q15. Find the sum of the series 2 +22 + 222 + 2222 + .. n terms\n",
        "\n",
        "import math\n",
        "def sumOfSeries( n ):\n",
        "\treturn 0.0246 * (math.pow(10, n) - 1 - (9 * n))\n",
        "\t\n",
        "n = 3\n",
        "print( sumOfSeries(n))"
      ],
      "execution_count": null,
      "outputs": [
        {
          "output_type": "stream",
          "text": [
            "23.9112\n"
          ],
          "name": "stdout"
        }
      ]
    }
  ]
}