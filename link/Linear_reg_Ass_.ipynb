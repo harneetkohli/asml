{
  "nbformat": 4,
  "nbformat_minor": 0,
  "metadata": {
    "colab": {
      "name": "Linear_reg_Ass-.ipynb",
      "provenance": []
    },
    "kernelspec": {
      "name": "python3",
      "display_name": "Python 3"
    },
    "language_info": {
      "name": "python"
    }
  },
  "cells": [
    {
      "cell_type": "code",
      "metadata": {
        "colab": {
          "base_uri": "https://localhost:8080/"
        },
        "id": "jqvSSkx2bSJm",
        "outputId": "7105ee1d-c58e-44b8-a498-5af4c20c21c5"
      },
      "source": [
        "from sklearn.linear_model import LinearRegression\n",
        "import numpy as np\n",
        "import matplotlib.pyplot as plt\n",
        "x=np.array([1400, 1600, 1700, 1875, 1100, 1550, 2350, 2450, 1425, 1700]).reshape(-1,1)\n",
        "y=np.array([245, 312, 279, 308, 199, 219, 405, 324, 319, 255])\n",
        "x\n",
        "y"
      ],
      "execution_count": 17,
      "outputs": [
        {
          "output_type": "execute_result",
          "data": {
            "text/plain": [
              "array([245, 312, 279, 308, 199, 219, 405, 324, 319, 255])"
            ]
          },
          "metadata": {},
          "execution_count": 17
        }
      ]
    },
    {
      "cell_type": "code",
      "metadata": {
        "id": "kYMFQZ6cdqpe"
      },
      "source": [
        "# step 1\n",
        "model = LinearRegression().fit(x,y)"
      ],
      "execution_count": 6,
      "outputs": []
    },
    {
      "cell_type": "code",
      "metadata": {
        "colab": {
          "base_uri": "https://localhost:8080/"
        },
        "id": "RnEtgvrad-IH",
        "outputId": "8eddb3ce-5c4b-49c7-cc14-e00585c68f79"
      },
      "source": [
        "# step 2\n",
        "r_sq = model.score(x,y)\n",
        "r_sq"
      ],
      "execution_count": 9,
      "outputs": [
        {
          "output_type": "execute_result",
          "data": {
            "text/plain": [
              "0.5808173118722721"
            ]
          },
          "metadata": {},
          "execution_count": 9
        }
      ]
    },
    {
      "cell_type": "code",
      "metadata": {
        "colab": {
          "base_uri": "https://localhost:8080/"
        },
        "id": "PorQPwc6eGZJ",
        "outputId": "c4543964-dd4d-4592-a84e-bb5712bc31e0"
      },
      "source": [
        "# step 3\n",
        "b0 = model.intercept_ # intercept\n",
        "b1 = model.coef_ # slope\n",
        "print(f\"Intercerpt= {b0} and Slope = {b1}\")"
      ],
      "execution_count": 10,
      "outputs": [
        {
          "output_type": "stream",
          "name": "stdout",
          "text": [
            "Intercerpt= 98.24832962138078 and Slope = [0.10976774]\n"
          ]
        }
      ]
    },
    {
      "cell_type": "code",
      "metadata": {
        "colab": {
          "base_uri": "https://localhost:8080/"
        },
        "id": "F5tQpNXNehSs",
        "outputId": "02b84b74-7c12-4597-fdbc-36c4c5516b6d"
      },
      "source": [
        "# step 4\n",
        "Y = b0 + b1*3000"
      ],
      "execution_count": 11,
      "outputs": [
        {
          "output_type": "execute_result",
          "data": {
            "text/plain": [
              "array([427.55154311])"
            ]
          },
          "metadata": {},
          "execution_count": 11
        }
      ]
    },
    {
      "cell_type": "code",
      "metadata": {
        "colab": {
          "base_uri": "https://localhost:8080/",
          "height": 300
        },
        "id": "sYvpJHVXe_qy",
        "outputId": "bc4fb528-8528-4e66-dc7f-c1f042ae3ef4"
      },
      "source": [
        "# step 5\n",
        "#plotting the actual points as scatter plot\n",
        "plt.scatter(x, y)\n",
        "\n",
        "#plotting the predicted line\n",
        "y_predicted = b0 + b1*x\n",
        "plt.plot(x, y_predicted)\n",
        "#putting labels\n",
        "plt.xlabel('Area (square feet)')\n",
        "plt.ylabel('House Price (in $1000s)')"
      ],
      "execution_count": 18,
      "outputs": [
        {
          "output_type": "execute_result",
          "data": {
            "text/plain": [
              "Text(0, 0.5, 'House Price (in $1000s)')"
            ]
          },
          "metadata": {},
          "execution_count": 18
        },
        {
          "output_type": "display_data",
          "data": {
            "image/png": "[encoded data removed]",
            "text/plain": [
              "<Figure size 432x288 with 1 Axes>"
            ]
          },
          "metadata": {
            "needs_background": "light"
          }
        }
      ]
    }
  ]
}