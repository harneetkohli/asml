{
  "nbformat": 4,
  "nbformat_minor": 0,
  "metadata": {
    "colab": {
      "name": "Ml_As_2.ipynb",
      "provenance": [],
      "collapsed_sections": []
    },
    "kernelspec": {
      "name": "python3",
      "display_name": "Python 3"
    },
    "language_info": {
      "name": "python"
    }
  },
  "cells": [
    {
      "cell_type": "code",
      "metadata": {
        "colab": {
          "base_uri": "https://localhost:8080/"
        },
        "id": "kOA2Hm34EIu-",
        "outputId": "5b4d8704-c1b2-47f1-913b-1640ea40208b"
      },
      "source": [
        "# 1. Create an array of 10 fives\n",
        "\n",
        "import numpy as np\n",
        "np.full(10,5)"
      ],
      "execution_count": null,
      "outputs": [
        {
          "output_type": "stream",
          "text": [
            "[5 5 5 5 5 5 5 5 5 5]\n"
          ],
          "name": "stdout"
        }
      ]
    },
    {
      "cell_type": "code",
      "metadata": {
        "colab": {
          "base_uri": "https://localhost:8080/"
        },
        "id": "kvxhXPS1E70a",
        "outputId": "8852668e-546e-4ec7-fbf6-847e1e332699"
      },
      "source": [
        "# 2. Create an array of the integers from 10 to 50 \n",
        "import numpy as np\n",
        "np.arange(10,51)"
      ],
      "execution_count": null,
      "outputs": [
        {
          "output_type": "stream",
          "text": [
            "[10 11 12 13 14 15 16 17 18 19 20 21 22 23 24 25 26 27 28 29 30 31 32 33\n",
            " 34 35 36 37 38 39 40 41 42 43 44 45 46 47 48 49 50]\n"
          ],
          "name": "stdout"
        }
      ]
    },
    {
      "cell_type": "code",
      "metadata": {
        "colab": {
          "base_uri": "https://localhost:8080/"
        },
        "id": "eqm5KxxpFaK1",
        "outputId": "91dde547-4bc8-4e3d-9953-5f2fd1ea13e4"
      },
      "source": [
        "# 3. Create an array of all the even integers from 10 to 50\n",
        "import numpy as np\n",
        "np.arange(10,51,2)"
      ],
      "execution_count": null,
      "outputs": [
        {
          "output_type": "stream",
          "text": [
            "[10 12 14 16 18 20 22 24 26 28 30 32 34 36 38 40 42 44 46 48 50]\n"
          ],
          "name": "stdout"
        }
      ]
    },
    {
      "cell_type": "code",
      "metadata": {
        "colab": {
          "base_uri": "https://localhost:8080/"
        },
        "id": "9d2pzNHOFh5B",
        "outputId": "52eb0951-4d7b-44d0-d850-a36ec76397b3"
      },
      "source": [
        "# 4. Create a 3x3 matrix with values ranging from 0 to 8 \n",
        "import numpy as np\n",
        "np.arange(0,9).reshape(3,3)"
      ],
      "execution_count": null,
      "outputs": [
        {
          "output_type": "stream",
          "text": [
            "[[0 1 2]\n",
            " [3 4 5]\n",
            " [6 7 8]]\n"
          ],
          "name": "stdout"
        }
      ]
    },
    {
      "cell_type": "code",
      "metadata": {
        "colab": {
          "base_uri": "https://localhost:8080/"
        },
        "id": "Nb8QXaPiGEni",
        "outputId": "8b6f1848-3bb0-444e-fd22-60df002c5cbf"
      },
      "source": [
        "# 5. Use NumPy to generate an array of 25 random numbers sampled from a standard normal distribution\n",
        "import numpy as np\n",
        "np.random.rand(25).round(2)"
      ],
      "execution_count": 2,
      "outputs": [
        {
          "output_type": "execute_result",
          "data": {
            "text/plain": [
              "array([0.23, 0.87, 0.97, 0.99, 0.28, 0.87, 0.32, 0.58, 0.01, 0.81, 0.77,\n",
              "       0.53, 0.33, 0.42, 0.48, 0.98, 0.22, 0.22, 0.93, 0.47, 0.98, 0.95,\n",
              "       0.96, 0.93, 0.43])"
            ]
          },
          "metadata": {},
          "execution_count": 2
        }
      ]
    },
    {
      "cell_type": "code",
      "metadata": {
        "colab": {
          "base_uri": "https://localhost:8080/"
        },
        "id": "b-PGDEniHIw-",
        "outputId": "47a4f212-fa46-4130-e50e-c05de41dd73d"
      },
      "source": [
        "# Create the following array: \n",
        "# array([0.  , 0.01, 0.02, 0.03, 0.04, 0.05, 0.06, 0.07, 0.08, 0.09, 0.1 , \n",
        "#        0.11, 0.12, 0.13, 0.14, 0.15, 0.16, 0.17, 0.18, 0.19, 0.2 , 0.21, \n",
        "#        0.22, 0.23, 0.24, 0.25, 0.26, 0.27, 0.28, 0.29, 0.3 , 0.31, 0.32, \n",
        "#        0.33, 0.34, 0.35, 0.36, 0.37, 0.38, 0.39, 0.4 , 0.41, 0.42, 0.43, \n",
        "#        0.44, 0.45, 0.46, 0.47, 0.48, 0.49, 0.5 , 0.51, 0.52, 0.53, 0.54, \n",
        "#        0.55, 0.56, 0.57, 0.58, 0.59, 0.6 , 0.61, 0.62, 0.63, 0.64, 0.65, \n",
        "#        0.66, 0.67, 0.68, 0.69, 0.7 , 0.71, 0.72, 0.73, 0.74, 0.75, 0.76, \n",
        "#        0.77, 0.78, 0.79, 0.8 , 0.81, 0.82, 0.83, 0.84, 0.85, 0.86, 0.87, \n",
        "#        0.88, 0.89, 0.9 , 0.91, 0.92, 0.93, 0.94, 0.95, 0.96, 0.97, 0.98, \n",
        "#        0.99, 1.  ])\n",
        "\n",
        "\n",
        "import numpy as np\n",
        "np.arange(1,101).reshape(10,10)/100"
      ],
      "execution_count": null,
      "outputs": [
        {
          "output_type": "execute_result",
          "data": {
            "text/plain": [
              "array([[0.01, 0.02, 0.03, 0.04, 0.05, 0.06, 0.07, 0.08, 0.09, 0.1 ],\n",
              "       [0.11, 0.12, 0.13, 0.14, 0.15, 0.16, 0.17, 0.18, 0.19, 0.2 ],\n",
              "       [0.21, 0.22, 0.23, 0.24, 0.25, 0.26, 0.27, 0.28, 0.29, 0.3 ],\n",
              "       [0.31, 0.32, 0.33, 0.34, 0.35, 0.36, 0.37, 0.38, 0.39, 0.4 ],\n",
              "       [0.41, 0.42, 0.43, 0.44, 0.45, 0.46, 0.47, 0.48, 0.49, 0.5 ],\n",
              "       [0.51, 0.52, 0.53, 0.54, 0.55, 0.56, 0.57, 0.58, 0.59, 0.6 ],\n",
              "       [0.61, 0.62, 0.63, 0.64, 0.65, 0.66, 0.67, 0.68, 0.69, 0.7 ],\n",
              "       [0.71, 0.72, 0.73, 0.74, 0.75, 0.76, 0.77, 0.78, 0.79, 0.8 ],\n",
              "       [0.81, 0.82, 0.83, 0.84, 0.85, 0.86, 0.87, 0.88, 0.89, 0.9 ],\n",
              "       [0.91, 0.92, 0.93, 0.94, 0.95, 0.96, 0.97, 0.98, 0.99, 1.  ]])"
            ]
          },
          "metadata": {
            "tags": []
          },
          "execution_count": 15
        }
      ]
    },
    {
      "cell_type": "code",
      "metadata": {
        "colab": {
          "base_uri": "https://localhost:8080/"
        },
        "id": "mbijHnPeHsvb",
        "outputId": "521426f6-dbac-48b1-cd72-2d382deed94c"
      },
      "source": [
        "# 7. Create an array of 20 linearly spaced points between 0 and 1\n",
        "import numpy as np\n",
        "np.linspace(0,1,20)"
      ],
      "execution_count": null,
      "outputs": [
        {
          "output_type": "execute_result",
          "data": {
            "text/plain": [
              "array([0.        , 0.05263158, 0.10526316, 0.15789474, 0.21052632,\n",
              "       0.26315789, 0.31578947, 0.36842105, 0.42105263, 0.47368421,\n",
              "       0.52631579, 0.57894737, 0.63157895, 0.68421053, 0.73684211,\n",
              "       0.78947368, 0.84210526, 0.89473684, 0.94736842, 1.        ])"
            ]
          },
          "metadata": {
            "tags": []
          },
          "execution_count": 16
        }
      ]
    },
    {
      "cell_type": "code",
      "metadata": {
        "colab": {
          "base_uri": "https://localhost:8080/"
        },
        "id": "HJW-0QlXILW5",
        "outputId": "adfe76ab-dfaa-4e14-a9ee-0eecff75ed94"
      },
      "source": [
        "# 8. Generate the following matrix, mat,  \n",
        "# array([[ 1,  2,  3,  4,  5], \n",
        "#        [ 6,  7,  8,  9, 10], \n",
        "#        [11, 12, 13, 14, 15], \n",
        "#        [16, 17, 18, 19, 20], \n",
        "#        [21, 22, 23, 24, 25]]) \n",
        "# and extract the following using the indexing and slicing: \n",
        "# array([[12, 13, 14, 15], \n",
        "#        [17, 18, 19, 20], \n",
        "#        [22, 23, 24, 25]]) \n",
        "# array([[ 2], \n",
        "#        [ 7], \n",
        "#        [12]]) \n",
        "# Get the sum of all the values in mat \n",
        "# Get the sum of all the rows and columns in mat \n",
        "\n",
        "import numpy as np\n",
        "mat = np.arange(1,26).reshape(5,5)\n",
        "mat\n",
        "print(mat[2:,1:])\n",
        "print(mat[0:3,1:2])\n",
        "\n",
        "print(np.sum(mat[0:1]))\n",
        "np.sum(mat[1:2])\n",
        "np.sum(mat[2:3])\n",
        "np.sum(mat[3:4])\n",
        "np.sum(mat[4:5])\n",
        "\n",
        "np.sum(mat[0:,0:1])\n",
        "np.sum(mat[0:,1:2])\n",
        "np.sum(mat[0:,2:3])\n",
        "np.sum(mat[0:,3:4])\n",
        "np.sum(mat[0:,4:5])"
      ],
      "execution_count": 5,
      "outputs": [
        {
          "output_type": "stream",
          "name": "stdout",
          "text": [
            "[[12 13 14 15]\n",
            " [17 18 19 20]\n",
            " [22 23 24 25]]\n",
            "[[ 2]\n",
            " [ 7]\n",
            " [12]]\n",
            "15\n"
          ]
        },
        {
          "output_type": "execute_result",
          "data": {
            "text/plain": [
              "75"
            ]
          },
          "metadata": {},
          "execution_count": 5
        }
      ]
    }
  ]
}